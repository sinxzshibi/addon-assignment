{
  "nbformat": 4,
  "nbformat_minor": 0,
  "metadata": {
    "colab": {
      "provenance": []
    },
    "kernelspec": {
      "name": "python3",
      "display_name": "Python 3"
    },
    "language_info": {
      "name": "python"
    }
  },
  "cells": [
    {
      "cell_type": "code",
      "source": [
        "'''Write a Python program to convert Celsius to Fahrenheit using the formula F = (C * 9/5) + 32'''\n",
        "\n",
        "c=float(input(\"Enter the celsius:\"))\n",
        "f = (c * 9/5) + 32\n",
        "print(\"The temperature in Fahrenheit is:\", f)"
      ],
      "metadata": {
        "id": "ahsEsFLfUyFT",
        "colab": {
          "base_uri": "https://localhost:8080/"
        },
        "outputId": "ae9ad3a7-4d1a-4871-9390-2dc90f1f33ee"
      },
      "execution_count": 1,
      "outputs": [
        {
          "output_type": "stream",
          "name": "stdout",
          "text": [
            "Enter the celsius:23\n",
            "The temperature in Fahrenheit is: 73.4\n"
          ]
        }
      ]
    },
    {
      "cell_type": "code",
      "execution_count": 2,
      "metadata": {
        "colab": {
          "base_uri": "https://localhost:8080/"
        },
        "id": "RtybRkkzTl_M",
        "outputId": "c2c4090e-1c7f-47c3-bf12-1fe10f20be55"
      },
      "outputs": [
        {
          "output_type": "stream",
          "name": "stdout",
          "text": [
            "The area of the circle with the radius 8 is: 201.06192982974676\n"
          ]
        }
      ],
      "source": [
        "''''WriteWrite a Python program to find the' area of a circle with a given radius using the formula area = pi * r ** 2. Assume that pi is 3.14.'''\n",
        "\n",
        "import math\n",
        "r=8\n",
        "area=math.pi*r**2\n",
        "print(\"The area of the circle with the radius\",r,\"is:\",area)"
      ]
    },
    {
      "cell_type": "code",
      "source": [
        "'''Write a Python program to find the quotient and remainder of two numbers using the division operator / and the modulo operator %.'''\n",
        "\n",
        "a=int(input(\"Enter the first number:\"))\n",
        "b=int(input(\"Enter the second number:\"))\n",
        "quo=a/b\n",
        "rem=a%b\n",
        "print(\"The quotient of\",a,\"and\",b,\"is:\",quo)\n",
        "print(\"The remainder of\",a,\"and\",b,\"is:\",rem)"
      ],
      "metadata": {
        "colab": {
          "base_uri": "https://localhost:8080/"
        },
        "id": "tLuhgq2kclFF",
        "outputId": "0e40bbcc-4a13-4cf0-8a95-6c9b7e3ddcfb"
      },
      "execution_count": 3,
      "outputs": [
        {
          "output_type": "stream",
          "name": "stdout",
          "text": [
            "Enter the first number:321\n",
            "Enter the second number:23\n",
            "The quotient of 321 and 23 is: 13.956521739130435\n",
            "The remainder of 321 and 23 is: 22\n"
          ]
        }
      ]
    },
    {
      "cell_type": "code",
      "source": [
        "'''Write a python program to check whether a given number is even or odd using the modulo operator %'''\n",
        "\n",
        "a=int(input(\"Enter the number:\"))\n",
        "if a%2==0:\n",
        "  print(\"It is even\")\n",
        "else:\n",
        "  print(\"It is odd\")"
      ],
      "metadata": {
        "colab": {
          "base_uri": "https://localhost:8080/"
        },
        "id": "bGvXRZUBbia3",
        "outputId": "c038ddd9-5c22-4af3-85f9-6ac3058e5110"
      },
      "execution_count": 4,
      "outputs": [
        {
          "output_type": "stream",
          "name": "stdout",
          "text": [
            "Enter the number:2\n",
            "It is even\n"
          ]
        }
      ]
    },
    {
      "cell_type": "code",
      "source": [
        "'''Write a Python program to calculate the average of three numbers entered by the user.'''\n",
        "a=int(input(\"Enter the first number:\"))\n",
        "b=int(input(\"Enter the second number:\"))\n",
        "c=int(input(\"Enter the third number:\"))\n",
        "avg=(a+b+c)/3\n",
        "print(\"The average of\",a,\",\",b,\"and\",c,\"is:\",avg)"
      ],
      "metadata": {
        "colab": {
          "base_uri": "https://localhost:8080/"
        },
        "id": "qZ-cglCOcH0-",
        "outputId": "a5933116-4e3f-4225-df6f-8af58cd92b09"
      },
      "execution_count": 5,
      "outputs": [
        {
          "output_type": "stream",
          "name": "stdout",
          "text": [
            "Enter the first number:13\n",
            "Enter the second number:21\n",
            "Enter the third number:13\n",
            "The average of 13 , 21 and 13 is: 15.666666666666666\n"
          ]
        }
      ]
    },
    {
      "cell_type": "code",
      "source": [
        "'''Write a program to swap two variables without using a temporary variable'''\n",
        "\n",
        "a=6\n",
        "b=9\n",
        "a=a+b\n",
        "b=a-b\n",
        "a=a-b\n",
        "print(\"The value of a is now =\", a)\n",
        "print(\"The value of b is now =\", b)"
      ],
      "metadata": {
        "colab": {
          "base_uri": "https://localhost:8080/"
        },
        "id": "kPZEErKldwjs",
        "outputId": "80366ba6-1ddd-4bbd-e36b-9a7ae26a37c6"
      },
      "execution_count": 6,
      "outputs": [
        {
          "output_type": "stream",
          "name": "stdout",
          "text": [
            "The value of a is now = 9\n",
            "The value of b is now = 6\n"
          ]
        }
      ]
    },
    {
      "cell_type": "code",
      "source": [
        "'''Write a Python program to calculate the area of a rectangle with given length and breadth.'''\n",
        "\n",
        "l=90\n",
        "b=82\n",
        "area=l*b\n",
        "print(\"The area of the rectangle is:\",area)"
      ],
      "metadata": {
        "colab": {
          "base_uri": "https://localhost:8080/"
        },
        "id": "3ULG7syWdyWR",
        "outputId": "af431ed4-4fdf-4a5f-b022-7d9b16dbb4db"
      },
      "execution_count": 7,
      "outputs": [
        {
          "output_type": "stream",
          "name": "stdout",
          "text": [
            "The area of the rectangle is: 7380\n"
          ]
        }
      ]
    },
    {
      "cell_type": "code",
      "source": [
        "'''Write a Python program to calculate the sum of the digits of a three-digit number.'''\n",
        "n = int(input(\"Enter the three digit number:\"))\n",
        "if 99 < n < 1000:\n",
        "  sod= n % 10 + (n // 10) % 10 + n // 100\n",
        "  print(\"The sum of the digits of the number is\", sod)\n",
        "else:\n",
        "    print(\"Please enter a valid three-digit number.\")"
      ],
      "metadata": {
        "colab": {
          "base_uri": "https://localhost:8080/"
        },
        "id": "YBvQEyjRejIK",
        "outputId": "aaba7cb8-5ea3-40a8-f0de-f2cf0a86c89c"
      },
      "execution_count": 8,
      "outputs": [
        {
          "output_type": "stream",
          "name": "stdout",
          "text": [
            "Enter the three digit number:4556\n",
            "Please enter a valid three-digit number.\n"
          ]
        }
      ]
    },
    {
      "cell_type": "code",
      "source": [
        "'''Write a Python program to check whether a given year is a leap year or not.'''\n",
        "\n",
        "yr=int(input(\"Enter a year:\"))\n",
        "if yr%4==0 and yr%100 !=0 or yr%400==0:\n",
        "  print(yr,\"is a leap year\")\n",
        "else:\n",
        "  print(yr,\"is not a leap year\")"
      ],
      "metadata": {
        "id": "u9CYcXleiYUH",
        "outputId": "22478a73-0578-4fad-f9c6-4b40958d72ec",
        "colab": {
          "base_uri": "https://localhost:8080/"
        }
      },
      "execution_count": 9,
      "outputs": [
        {
          "output_type": "stream",
          "name": "stdout",
          "text": [
            "Enter a year:2019\n",
            "2019 is not a leap year\n"
          ]
        }
      ]
    },
    {
      "cell_type": "code",
      "source": [
        "'''Write a Python program to find the maximum and minimum of two numbers entered by the user.'''\n",
        "\n",
        "import math\n",
        "a=int(input(\"Enter the first number:\"))\n",
        "b=int(input(\"Enter the second number:\"))\n",
        "if a>b:\n",
        "  max=a\n",
        "  min=b\n",
        "else:\n",
        "  max=b\n",
        "  min=a\n",
        "print(\"The maximum of\",a,\"and\",b,\"is:\",max)\n",
        "print(\"The minimum of\",a,\"and\",b,\"is:\",min)"
      ],
      "metadata": {
        "colab": {
          "base_uri": "https://localhost:8080/"
        },
        "id": "4mHV0DIXju3H",
        "outputId": "d3bf2352-88e5-497f-efde-f9ce9eb45a77"
      },
      "execution_count": 10,
      "outputs": [
        {
          "output_type": "stream",
          "name": "stdout",
          "text": [
            "Enter the first number:11\n",
            "Enter the second number:24\n",
            "The maximum of 11 and 24 is: 24\n",
            "The minimum of 11 and 24 is: 11\n"
          ]
        }
      ]
    }
  ]
}